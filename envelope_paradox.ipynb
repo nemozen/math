{
 "cells": [
  {
   "cell_type": "code",
   "execution_count": 1,
   "metadata": {},
   "outputs": [],
   "source": [
    "import random\n",
    "import math\n",
    "\n",
    "\n",
    "def cobe_switch(x):\n",
    "    if random.random() > math.pow(0.99, x):\n",
    "        return False\n",
    "    else:\n",
    "        return True\n",
    "\n",
    "\n",
    "def generate_y():\n",
    "    return random.random()\n",
    "\n",
    "\n",
    "def pick_envelope(y):\n",
    "    if random.random() > 0.5:\n",
    "        return y\n",
    "    else:\n",
    "        return 2*y\n",
    "\n",
    "\n",
    "def play_once(switcher):\n",
    "    y = generate_y()\n",
    "    x = pick_envelope(y)\n",
    "    if switcher(x):\n",
    "        if x == y:\n",
    "            return 2*y\n",
    "        elif x == 2*y:\n",
    "            return y\n",
    "        else:\n",
    "            raise Exception('should not happen')\n",
    "    else:\n",
    "        return x"
   ]
  },
  {
   "cell_type": "code",
   "execution_count": 2,
   "metadata": {},
   "outputs": [],
   "source": [
    "def always_switch(x):\n",
    "    return True\n",
    "\n",
    "\n",
    "def never_switch(x):\n",
    "    return False"
   ]
  },
  {
   "cell_type": "code",
   "execution_count": 3,
   "metadata": {},
   "outputs": [
    {
     "name": "stdout",
     "output_type": "stream",
     "text": [
      "0.7516660445865921\n",
      "0.7495102885655769\n",
      "0.7498312619008579\n"
     ]
    }
   ],
   "source": [
    "v = 0\n",
    "n = 1000000\n",
    "for i in range(n):\n",
    "    v += play_once(cobe_switch)\n",
    "print(v/n)\n",
    "\n",
    "v = 0\n",
    "for i in range(n):\n",
    "    v += play_once(always_switch)\n",
    "print(v/n)\n",
    "\n",
    "v = 0\n",
    "for i in range(n):\n",
    "    v += play_once(never_switch)\n",
    "print(v/n)"
   ]
  }
 ],
 "metadata": {
  "kernelspec": {
   "display_name": "Python 3",
   "language": "python",
   "name": "python3"
  },
  "language_info": {
   "codemirror_mode": {
    "name": "ipython",
    "version": 3
   },
   "file_extension": ".py",
   "mimetype": "text/x-python",
   "name": "python",
   "nbconvert_exporter": "python",
   "pygments_lexer": "ipython3",
   "version": "3.6.9"
  }
 },
 "nbformat": 4,
 "nbformat_minor": 4
}
