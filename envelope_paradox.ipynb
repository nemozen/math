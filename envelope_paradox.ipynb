{
 "cells": [
  {
   "cell_type": "markdown",
   "metadata": {},
   "source": [
    "# The two envelope problem\n",
    "There are two envelopes, one has an unknown amount of money Y, the other has exactly twice that amount, 2Y. You don't know which is which. You pick one envelope. You open it and see it contains a certain amount X. You have to decide whether to keep that or  take the other envelope. Do you switch or not?  \n",
    "\n",
    "## The \"paradox\"\n",
    "By symmetry, whether you switch or not, you get an expected value of `0.5*Y + 0.5*2Y = 1.5Y`, so might as well never switch.\n",
    "\n",
    "But consider the following strategy. When you see `X`, you think  here's a 50-50 chance that the other envelope is `2X` or `X/2`. So it seems like if you don't switch you get `X`, but if you do switch, you get `0.5*2X + 0.5*X/2 = 1.25*X`, and the net gain from switching is `0.25X > 0`. So you should always switch! \n",
    "\n",
    "Thus it seems like we have a paradox. One argument proves switching makes no difference, the other \"proves\" that if you can see X, switching always improves your outcome.\n",
    "\n",
    "Now consider another strategy. Given `X`, you switch with probability `0.99^X`. Since X has a 50-50 chance of being Y or 2Y, your expected gain from switching is `0.5*Y*0.99^Y - 0.5*Y*0.99^(2Y) > 0`. So it seems like this mixed strategy always wins. In fact it is positive, for any value of the constant, not just `0.99`.\n",
    "\n",
    "## The answer\n",
    "The resolution is that the expected value calculation in the latter two cases is actually wrong. In all cases, whether you switch or not, you *will* get an expected value of `1.5Y`. \n",
    "\n",
    "## Proof\n",
    "The proof of the correct expected value is a bit technical, and you can read it [envelope_paradox.pdf](envelope_paradox.pdf).\n",
    "\n",
    "## Simulation\n",
    "More simply, we can convince ourselves by simulating the three strategies,"
   ]
  },
  {
   "cell_type": "code",
   "execution_count": 1,
   "metadata": {},
   "outputs": [],
   "source": [
    "import random\n",
    "import math\n",
    "\n",
    "\n",
    "def generate_y():\n",
    "    return random.random()\n",
    "\n",
    "\n",
    "def pick_envelope(y):\n",
    "    if random.random() > 0.5:\n",
    "        return y\n",
    "    else:\n",
    "        return 2*y\n",
    "\n",
    "\n",
    "def play_once(switcher):\n",
    "    y = generate_y()\n",
    "    x = pick_envelope(y)\n",
    "    if switcher(x):\n",
    "        if x == y:\n",
    "            return 2*y\n",
    "        elif x == 2*y:\n",
    "            return y\n",
    "        else:\n",
    "            raise Exception('x must be y or 2y')\n",
    "    else:\n",
    "        return x"
   ]
  },
  {
   "cell_type": "code",
   "execution_count": 2,
   "metadata": {},
   "outputs": [],
   "source": [
    "def cobe_switch(x):\n",
    "    if random.random() > math.pow(0.99, x):\n",
    "        return False\n",
    "    else:\n",
    "        return True\n",
    "\n",
    "\n",
    "def always_switch(x):\n",
    "    return True\n",
    "\n",
    "\n",
    "def never_switch(x):\n",
    "    return False"
   ]
  },
  {
   "cell_type": "code",
   "execution_count": 3,
   "metadata": {},
   "outputs": [
    {
     "name": "stdout",
     "output_type": "stream",
     "text": [
      "0.7515291967272606\n",
      "0.7501960753964675\n",
      "0.7497765794353538\n"
     ]
    }
   ],
   "source": [
    "v = 0\n",
    "n = 10000000\n",
    "for i in range(n):\n",
    "    v += play_once(cobe_switch)\n",
    "print(v/n)\n",
    "\n",
    "v = 0\n",
    "for i in range(n):\n",
    "    v += play_once(always_switch)\n",
    "print(v/n)\n",
    "\n",
    "v = 0\n",
    "for i in range(n):\n",
    "    v += play_once(never_switch)\n",
    "print(v/n)"
   ]
  },
  {
   "cell_type": "markdown",
   "metadata": {},
   "source": [
    "As we can see, we are getting `1.5Y` in all cases. Here we chose Y uniformly on `[0,1]` so `E[Y] = 0.5` and, as we would expect from ergodicity, the long term average converges to `1.5*E[Y] = 0.75`.\n",
    "\n",
    "You can try this with any distribution for Y, as long as the switcher doesn't know the distribution of Y and is memoryless so it can't \"learn\" it. "
   ]
  }
 ],
 "metadata": {
  "kernelspec": {
   "display_name": "Python 3",
   "language": "python",
   "name": "python3"
  },
  "language_info": {
   "codemirror_mode": {
    "name": "ipython",
    "version": 3
   },
   "file_extension": ".py",
   "mimetype": "text/x-python",
   "name": "python",
   "nbconvert_exporter": "python",
   "pygments_lexer": "ipython3",
   "version": "3.6.9"
  }
 },
 "nbformat": 4,
 "nbformat_minor": 4
}
