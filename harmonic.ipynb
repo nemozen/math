{
 "cells": [
  {
   "cell_type": "markdown",
   "metadata": {},
   "source": [
    "# Harmonic sum riddle\n",
    "\n",
    "Problem from [Riddler Express](https://fivethirtyeight.com/features/one-small-step-for-man-one-giant-coin-flip-for-mankind/). Restated succinctly: find 11 distinct integers such that the harmonic sum `1/n1 + 1/n2 + ... + 1/n11 = 2.0`, and we want n11 to be as small as possible. "
   ]
  },
  {
   "cell_type": "code",
   "execution_count": 1,
   "metadata": {},
   "outputs": [],
   "source": [
    "epsilon = 1e-15\n",
    "\n",
    "def score(x):\n",
    "    return sum([1.0/n for n in x])"
   ]
  },
  {
   "cell_type": "markdown",
   "metadata": {},
   "source": [
    "##  First solution: brute force\n",
    "Pick n to be as small as possible and try all possible combinations of length 11 such that the score is 2.0"
   ]
  },
  {
   "cell_type": "code",
   "execution_count": 2,
   "metadata": {},
   "outputs": [
    {
     "name": "stdout",
     "output_type": "stream",
     "text": [
      "Answer: (1, 5, 6, 8, 9, 10, 12, 15, 18, 20, 24)\n",
      "score: 2.0\n",
      "time: 5.615596294403076\n"
     ]
    }
   ],
   "source": [
    "import itertools\n",
    "import time\n",
    "\n",
    "def combfind(sc, l):\n",
    "    \"\"\"Find a combination of l distinct integers, with score sc, and such                                                                                                        \n",
    "    that the largest member is as small as possible.                                                                                                                             \n",
    "    \"\"\"\n",
    "    n = l\n",
    "    while True:\n",
    "        for x in itertools.combinations(range(1, n+1), l):\n",
    "            if abs(score(x)-sc) < epsilon:\n",
    "                return x\n",
    "        n += 1\n",
    "\n",
    "t0 = time.time()\n",
    "ans1 = combfind(2, 11)\n",
    "t1 = time.time()\n",
    "print (\"Answer: {}\\nscore: {}\\ntime: {}\".format(ans1, score(ans1), t1-t0))"
   ]
  },
  {
   "cell_type": "markdown",
   "metadata": {},
   "source": [
    "## Second solution: dynamic programming\n",
    "If x11 is a solution of length 11 with score s11=2, then it must be of the form `x11 = x10 + [n11]`, where n11 is the largest member. In turn x10 must be a solution with score s10 = s11 - 1/n11, etc. Until x1, which must be a solution with score s1 = s2 - 1/n2, and of the form `x1 = [n1]`. The solution exists if and only if n1 = 1/s1 is an integer and is maller than n2.      "
   ]
  },
  {
   "cell_type": "code",
   "execution_count": 3,
   "metadata": {},
   "outputs": [
    {
     "name": "stdout",
     "output_type": "stream",
     "text": [
      "Answer: (1, 5, 6, 8, 9, 10, 12, 15, 18, 20, 24)\n",
      "score: 2.0\n",
      "time: 0.9513001441955566\n"
     ]
    }
   ],
   "source": [
    "def dpfind(x, ysc, ylen):\n",
    "    \"\"\"Find y+x such that all members of y are smaller than                                                                                                                      \n",
    "    all members of x, y is of length ylen, and y has score ysc.                                                                                                                  \n",
    "    \"\"\"\n",
    "    if ysc <= 0:\n",
    "        return\n",
    "    if ylen == 1:\n",
    "        n = int(1.0/ysc)\n",
    "        if abs(ysc*n - 1) < epsilon and n < x[0]:\n",
    "            return (n,) + x\n",
    "    else:\n",
    "        n = ylen\n",
    "        while not x or n < x[0]:\n",
    "            ans = dpfind((n,) + x, ysc-1.0/n, ylen-1)\n",
    "            if ans:\n",
    "                return ans\n",
    "            n = n +1\n",
    "\n",
    "t0 = time.time()\n",
    "ans2 = dpfind((), 2, 11)\n",
    "t1 = time.time()\n",
    "print (\"Answer: {}\\nscore: {}\\ntime: {}\".format(ans2, score(ans2), t1-t0))"
   ]
  },
  {
   "cell_type": "markdown",
   "metadata": {},
   "source": [
    "The second solution is 7x faster than the first!"
   ]
  },
  {
   "cell_type": "code",
   "execution_count": null,
   "metadata": {},
   "outputs": [],
   "source": []
  }
 ],
 "metadata": {
  "kernelspec": {
   "display_name": "Python 3",
   "language": "python",
   "name": "python3"
  },
  "language_info": {
   "codemirror_mode": {
    "name": "ipython",
    "version": 3
   },
   "file_extension": ".py",
   "mimetype": "text/x-python",
   "name": "python",
   "nbconvert_exporter": "python",
   "pygments_lexer": "ipython3",
   "version": "3.6.7"
  }
 },
 "nbformat": 4,
 "nbformat_minor": 2
}
